{
 "cells": [
  {
   "cell_type": "markdown",
   "metadata": {},
   "source": [
    "The PISA data file contains a wealth of information, but it is not straight forward to load.  The data comes in a sas7bdat file which needs to be converted into a more user friendly format.  Because the file is very large (1100+ columns for 600,000+ students), this process is not fast."
   ]
  },
  {
   "cell_type": "code",
   "execution_count": null,
   "metadata": {},
   "outputs": [],
   "source": [
    "pip install sas7bdat"
   ]
  },
  {
   "cell_type": "code",
   "execution_count": 1,
   "metadata": {},
   "outputs": [],
   "source": [
    "import pandas as pd\n",
    "import numpy as np\n",
    "from sas7bdat import SAS7BDAT\n",
    "import scipy "
   ]
  },
  {
   "cell_type": "code",
   "execution_count": null,
   "metadata": {},
   "outputs": [],
   "source": [
    "j=0\n",
    "i=0\n",
    "with SAS7BDAT('cy07_msu_stu_qqq.sas7bdat') as f:\n",
    "    for r in f:\n",
    "        if j==0:\n",
    "            cols_r = r\n",
    "            df = pd.DataFrame(columns=r)\n",
    "            if i== 0:\n",
    "                df.to_csv('pisa_2020_full.csv')\n",
    "        else:\n",
    "            x = np.reshape(r, (1119, 1)).T\n",
    "            y = pd.DataFrame(x, columns=cols_r)\n",
    "            df = df.append(y)\n",
    "        j=j+1\n",
    "        i=i+1\n",
    "        if j>100:\n",
    "            df.to_csv('pisa_2020_full.csv', mode='a', header=False)\n",
    "#            df = pd.DataFrame(columns=r)\n",
    "            j=0\n",
    "        if i%10000 ==0:\n",
    "            print(i)\n",
    "#            break\n",
    "print('the end')    "
   ]
  },
  {
   "cell_type": "code",
   "execution_count": 2,
   "metadata": {},
   "outputs": [],
   "source": [
    "pisa = pd.read_csv('d:\\pisa_2020_full.csv')"
   ]
  },
  {
   "cell_type": "code",
   "execution_count": 73,
   "metadata": {},
   "outputs": [],
   "source": [
    "pisa_narrow = pisa[['CNT','ESCS','STUBMI', 'WEALTH', 'GFOFAIL', 'PV1MATH' ,'PV2MATH' ,'PV3MATH' ,'PV4MATH' ,'PV5MATH' ,'PV6MATH' ,'PV7MATH' ,'PV8MATH', 'PV9MATH','PV10MATH',\n",
    "                   'PV1READ' ,'PV2READ' ,'PV3READ' ,'PV4READ' ,'PV5READ' ,'PV6READ' ,'PV7READ' ,'PV8READ','PV9READ', 'PV10READ',\n",
    "                   'PV1SCIE' ,'PV2SCIE' ,'PV3SCIE' ,'PV4SCIE' ,'PV5SCIE' ,'PV6SCIE' ,'PV7SCIE' ,'PV8SCIE','PV9SCIE', 'PV10SCIE',\n",
    "                    'IMMIG'\n",
    "                   ]]"
   ]
  },
  {
   "cell_type": "code",
   "execution_count": 74,
   "metadata": {},
   "outputs": [
    {
     "name": "stderr",
     "output_type": "stream",
     "text": [
      "C:\\Users\\Siobhan\\Anaconda3\\lib\\site-packages\\ipykernel_launcher.py:4: SettingWithCopyWarning: \n",
      "A value is trying to be set on a copy of a slice from a DataFrame.\n",
      "Try using .loc[row_indexer,col_indexer] = value instead\n",
      "\n",
      "See the caveats in the documentation: http://pandas.pydata.org/pandas-docs/stable/user_guide/indexing.html#returning-a-view-versus-a-copy\n",
      "  after removing the cwd from sys.path.\n",
      "C:\\Users\\Siobhan\\Anaconda3\\lib\\site-packages\\ipykernel_launcher.py:5: SettingWithCopyWarning: \n",
      "A value is trying to be set on a copy of a slice from a DataFrame.\n",
      "Try using .loc[row_indexer,col_indexer] = value instead\n",
      "\n",
      "See the caveats in the documentation: http://pandas.pydata.org/pandas-docs/stable/user_guide/indexing.html#returning-a-view-versus-a-copy\n",
      "  \"\"\"\n",
      "C:\\Users\\Siobhan\\Anaconda3\\lib\\site-packages\\ipykernel_launcher.py:6: SettingWithCopyWarning: \n",
      "A value is trying to be set on a copy of a slice from a DataFrame.\n",
      "Try using .loc[row_indexer,col_indexer] = value instead\n",
      "\n",
      "See the caveats in the documentation: http://pandas.pydata.org/pandas-docs/stable/user_guide/indexing.html#returning-a-view-versus-a-copy\n",
      "  \n",
      "C:\\Users\\Siobhan\\Anaconda3\\lib\\site-packages\\ipykernel_launcher.py:10: SettingWithCopyWarning: \n",
      "A value is trying to be set on a copy of a slice from a DataFrame\n",
      "\n",
      "See the caveats in the documentation: http://pandas.pydata.org/pandas-docs/stable/user_guide/indexing.html#returning-a-view-versus-a-copy\n",
      "  # Remove the CWD from sys.path while we load stuff.\n",
      "C:\\Users\\Siobhan\\Anaconda3\\lib\\site-packages\\ipykernel_launcher.py:14: SettingWithCopyWarning: \n",
      "A value is trying to be set on a copy of a slice from a DataFrame\n",
      "\n",
      "See the caveats in the documentation: http://pandas.pydata.org/pandas-docs/stable/user_guide/indexing.html#returning-a-view-versus-a-copy\n",
      "  \n",
      "C:\\Users\\Siobhan\\Anaconda3\\lib\\site-packages\\ipykernel_launcher.py:17: SettingWithCopyWarning: \n",
      "A value is trying to be set on a copy of a slice from a DataFrame\n",
      "\n",
      "See the caveats in the documentation: http://pandas.pydata.org/pandas-docs/stable/user_guide/indexing.html#returning-a-view-versus-a-copy\n"
     ]
    }
   ],
   "source": [
    "#The pisa data creates 10 fields for each test/student that approximates the score.\n",
    "#for the purpose of this analysis, we will just take the mean of the 10 scores and count that\n",
    "#as the final score for the student/subject.\n",
    "pisa_narrow['PVMATH']=0\n",
    "pisa_narrow['PVREAD']=0\n",
    "pisa_narrow['PVSCIE']=0\n",
    "\n",
    "for i in range(0,len(pisa_narrow)):\n",
    "    pisa_narrow['PVMATH'].iloc[i] = (pisa_narrow['PV1MATH'].iloc[i] +pisa_narrow['PV2MATH'].iloc[i] + pisa_narrow['PV3MATH'].iloc[i]+ pisa_narrow['PV4MATH'].iloc[i] + pisa_narrow['PV5MATH'].iloc[i]\n",
    "          +pisa_narrow['PV6MATH'].iloc[i] +pisa_narrow['PV7MATH'].iloc[i] + pisa_narrow['PV8MATH'].iloc[i]+ pisa_narrow['PV9MATH'].iloc[i] + pisa_narrow['PV10MATH'].iloc[i])/10\n",
    "\n",
    "    \n",
    "    pisa_narrow['PVREAD'].iloc[i] = (pisa_narrow['PV1READ'].iloc[i] +pisa_narrow['PV2READ'].iloc[i] + pisa_narrow['PV3READ'].iloc[i]+ pisa_narrow['PV4READ'].iloc[i] + pisa_narrow['PV5READ'].iloc[i]\n",
    "          +pisa_narrow['PV6READ'].iloc[i] +pisa_narrow['PV7READ'].iloc[i] + pisa_narrow['PV8READ'].iloc[i]+ pisa_narrow['PV9READ'].iloc[i] + pisa_narrow['PV10READ'].iloc[i])/10\n",
    "\n",
    "    pisa_narrow['PVSCIE'].iloc[i] = (pisa_narrow['PV1SCIE'].iloc[i] +pisa_narrow['PV2SCIE'].iloc[i] + pisa_narrow['PV3SCIE'].iloc[i]+ pisa_narrow['PV4SCIE'].iloc[i] + pisa_narrow['PV5SCIE'].iloc[i]\n",
    "          +pisa_narrow['PV6SCIE'].iloc[i] +pisa_narrow['PV7SCIE'].iloc[i] + pisa_narrow['PV8SCIE'].iloc[i]+ pisa_narrow['PV9SCIE'].iloc[i] + pisa_narrow['PV10SCIE'].iloc[i])/10\n"
   ]
  },
  {
   "cell_type": "code",
   "execution_count": 95,
   "metadata": {},
   "outputs": [],
   "source": [
    "CountryDict = {\n",
    "'ALB':['Albania'],\n",
    "'ARE':['United Arab Emirates'],\n",
    "'ARG':['Argentina'],\n",
    "'AUS':['Australia'],\n",
    "'AUT':['Austria'],\n",
    "'BEL':['Belgium'],\n",
    "'BGR':['Bulgaria'],\n",
    "'BIH':['Bosnia and Herzegovina'],\n",
    "'BLR':['Belarus'],\n",
    "'BRA':['Brazil'],\n",
    "'BRN':['Brunei Darussalam'],\n",
    "'CAN':['Canada'],\n",
    "'CHE':['Switzerland'],\n",
    "'CHL':['Chile'],\n",
    "'COL':['Colombia'],\n",
    "'CRI':['Costa Rica'],\n",
    "'CZE':['Czech Republic'],\n",
    "'DEU':['Germany'],\n",
    "'DNK':['Denmark'],\n",
    "'DOM':['Dominican Republic'],\n",
    "'ESP':['Spain'],\n",
    "'EST':['Estonia'],\n",
    "'FIN':['Finland'],\n",
    "'FRA':['France'],\n",
    "'GBR':['United Kingdom'],\n",
    "'GEO':['Georgia'],\n",
    "'GRC':['Greece'],\n",
    "'HKG':['Hong Kong'],\n",
    "'HRV':['Croatia'],\n",
    "'HUN':['Hungary'],\n",
    "'IDN':['Indonesia'],\n",
    "'IRL':['Ireland'],\n",
    "'ISL':['Iceland'],\n",
    "'ISR':['Israel'],\n",
    "'ITA':['Italy'],\n",
    "'JOR':['Jordan'],\n",
    "'JPN':['Japan'],\n",
    "'KAZ':['Kazakhstan'],\n",
    "'KOR':['Korea'],\n",
    "'KSV':['Kosovo'],\n",
    "'LBN':['Lebanon'],\n",
    "'LTU':['Lithuania'],\n",
    "'LUX':['Luxembourg'],\n",
    "'LVA':['Latvia'],\n",
    "'MAC':['Macao'],\n",
    "'MAR':['Morocco'],\n",
    "'MDA':['Moldova'],\n",
    "'MEX':['Mexico'],\n",
    "'MKD':['North Macedonia'],\n",
    "'MLT':['Malta'],\n",
    "'MNE':['Montenegro'],\n",
    "'MYS':['Malaysia'],\n",
    "'NLD':['Netherlands'],\n",
    "'NOR':['Norway'],\n",
    "'NZL':['New Zealand'],\n",
    "'PAN':['Panama'],\n",
    "'PER':['Peru'],\n",
    "'PHL':['Philippines'],\n",
    "'POL':['Poland'],\n",
    "'PRT':['Portugal'],\n",
    "'QAT':['Qatar'],\n",
    "'QAZ':['Baku (Azerbaijan)'],\n",
    "'QCI':['B-S-J-Z (China)'],\n",
    "'QCY':['Cyprus'],\n",
    "'QMC':['Moscow City (RUS)'],\n",
    "'QMR':['Moscow Region (RUS)'],\n",
    "'QRT':['Tatarstan (RUS)'],\n",
    "'ROU':['Romania'],\n",
    "'RUS':['Russian Federation'],\n",
    "'SAU':['Saudi Arabia'],\n",
    "'SGP':['Singapore'],\n",
    "'SRB':['Serbia'],\n",
    "'SVK':['Slovak Republic'],\n",
    "'SVN':['Slovenia'],\n",
    "'SWE':['Sweden'],\n",
    "'TAP':['Chinese Taipei'],\n",
    "'THA':['Thailand'],\n",
    "'TUR':['Turkey'],\n",
    "'UKR':['Ukraine'],\n",
    "'URY':['Uruguay'],\n",
    "'USA':['United States'],\n",
    "'VNM':['Vietnam']\n",
    "}"
   ]
  },
  {
   "cell_type": "code",
   "execution_count": 96,
   "metadata": {},
   "outputs": [
    {
     "data": {
      "text/plain": [
       "['United States']"
      ]
     },
     "execution_count": 96,
     "metadata": {},
     "output_type": "execute_result"
    }
   ],
   "source": [
    "CountryDict['USA']"
   ]
  },
  {
   "cell_type": "markdown",
   "metadata": {},
   "source": [
    "We are interested in exploring the correlation between test scores and individual's socio economic status, so we do calculate the wealth and escs correlations.  ESCS is a more comprehensive field according to the PISA documentation, so we use that in our visualizations.\n",
    "\n",
    "We also want to know the mean score for reading, math, and science by country.\n",
    "\n"
   ]
  },
  {
   "cell_type": "code",
   "execution_count": 111,
   "metadata": {},
   "outputs": [],
   "source": [
    "\n",
    "\n",
    "countrylist = pisa_narrow['CNT'].unique()\n",
    "df = pd.DataFrame()\n",
    "#columns=['CNT',  'WEALTH_R_CORR', 'WEALTH_MATH_CORR', 'WEALTH_SCIE_CORR'])\n",
    " \n",
    "\n",
    "for i in countrylist:\n",
    "    countrydata_i = pisa_narrow[pisa_narrow['CNT']==i]\n",
    "    tot = len(countrydata_i)\n",
    "    immig1 = len(countrydata_i[countrydata_i['IMMIG']==2])\n",
    "    immig2 = len(countrydata_i[countrydata_i['IMMIG']==3])\n",
    "    immig = immig1 + immig2\n",
    "    country = CountryDict[i]\n",
    "    wealth_read_corr = countrydata_i['WEALTH'].corr(countrydata_i['PVREAD'])\n",
    "    wealth_math_corr = countrydata_i['WEALTH'].corr(countrydata_i['PVMATH'])\n",
    "    wealth_scie_corr = countrydata_i['WEALTH'].corr(countrydata_i['PVSCIE'])\n",
    "    #socio economic metric\n",
    "    escs_read_corr = countrydata_i['ESCS'].corr(countrydata_i['PVREAD'])\n",
    "    escs_math_corr = countrydata_i['ESCS'].corr(countrydata_i['PVMATH'])\n",
    "    escs_scie_corr = countrydata_i['ESCS'].corr(countrydata_i['PVSCIE'])\n",
    "    #fear of failure - did not see anything interesting in the data exploration\n",
    "    gfofail_read_corr = countrydata_i['GFOFAIL'].corr(countrydata_i['PVREAD'])\n",
    "    gfofail_math_corr = countrydata_i['GFOFAIL'].corr(countrydata_i['PVMATH'])\n",
    "    gfofail_scie_corr = countrydata_i['GFOFAIL'].corr(countrydata_i['PVSCIE'])\n",
    "    mean_read = np.mean(countrydata_i['PVREAD'])\n",
    "    mean_math = np.mean(countrydata_i['PVMATH'])\n",
    "    mean_scie = np.mean(countrydata_i['PVSCIE'])\n",
    "\n",
    "                                               \n",
    "    row_df=pd.DataFrame()\n",
    "    row_df = pd.DataFrame([[i, country, tot, immig, wealth_read_corr, wealth_math_corr, wealth_scie_corr,\n",
    "                                      escs_read_corr, escs_math_corr, escs_scie_corr,\n",
    "                                       gfofail_read_corr, gfofail_math_corr, gfofail_scie_corr,\n",
    "                                        mean_read, mean_math, mean_scie\n",
    "                           ] ])\n",
    "    df = df.append([row_df], ignore_index=True)\n",
    "                                               \n",
    "    "
   ]
  },
  {
   "cell_type": "code",
   "execution_count": 113,
   "metadata": {},
   "outputs": [],
   "source": [
    "country_corr = df.rename(columns={0: 'CNT',\n",
    "                                  1: 'COUNTRY',\n",
    "                                  2: 'TOTAL', \n",
    "                                  3: 'IMMIG',                                  \n",
    "                                  4:'WEALTH_READ_CORR', 5: 'WEALTH_MATH_CORR', 6: 'WEALTH_SCIE_CORR', \n",
    "                        7:'ESCS_READ_CORR', 8: 'ESCS_MATH_CORR', 9: 'ESCS_SCIE_CORR',\n",
    "                       10: 'GFOFAIL_READ_CORR', 11: 'GFOFAIL_MATH_CORR',12: 'GFOFAIL_SCIE_CORR',\n",
    "                                 13: 'MEAN_READ', 14: 'MEAN_MATH', 15: 'MEAN_SCIE'})"
   ]
  },
  {
   "cell_type": "code",
   "execution_count": 117,
   "metadata": {},
   "outputs": [],
   "source": [
    "country_corr.to_csv('country_corr3.csv', index=False)"
   ]
  }
 ],
 "metadata": {
  "kernelspec": {
   "display_name": "Python 3",
   "language": "python",
   "name": "python3"
  },
  "language_info": {
   "codemirror_mode": {
    "name": "ipython",
    "version": 3
   },
   "file_extension": ".py",
   "mimetype": "text/x-python",
   "name": "python",
   "nbconvert_exporter": "python",
   "pygments_lexer": "ipython3",
   "version": "3.7.4"
  }
 },
 "nbformat": 4,
 "nbformat_minor": 2
}
